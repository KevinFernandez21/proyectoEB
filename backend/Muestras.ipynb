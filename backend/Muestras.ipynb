{
 "cells": [
  {
   "cell_type": "code",
   "execution_count": 17,
   "metadata": {},
   "outputs": [
    {
     "data": {
      "text/latex": [
       "$\\displaystyle \\left[\\begin{matrix}R_{2} + R_{4} & - R_{2} & - R_{4} & V_{1}\\\\- R_{2} & R_{1} + R_{2} + R_{3} & - R_{3} & V_{2}\\\\- R_{4} & - R_{3} & R_{3} + R_{4} + R_{5} & - V_{3}\\end{matrix}\\right]$"
      ],
      "text/plain": [
       "Matrix([\n",
       "[R2 + R4,          -R2,          -R4,  V1],\n",
       "[    -R2, R1 + R2 + R3,          -R3,  V2],\n",
       "[    -R4,          -R3, R3 + R4 + R5, -V3]])"
      ]
     },
     "execution_count": 17,
     "metadata": {},
     "output_type": "execute_result"
    }
   ],
   "source": [
    "from sympy import symbols, Matrix\n",
    "\n",
    "# Definir las variables simbólicas\n",
    "R1, R2, R3, R4, R5, V1, V2, V3 = symbols('R1 R2 R3 R4 R5 V1 V2 V3')\n",
    "\n",
    "# Definir la matriz completa (incluyendo los términos independientes)\n",
    "matrix = Matrix([\n",
    "    [R2 + R4, -R2, -R4, V1],\n",
    "    [-R2, R1 + R3 + R2,-R3, V2],\n",
    "    [-R4,-R3, R5 + R4 + R3, -V3]\n",
    "])\n",
    "\n",
    "matrix"
   ]
  },
  {
   "cell_type": "code",
   "execution_count": 18,
   "metadata": {},
   "outputs": [
    {
     "data": {
      "text/latex": [
       "$\\displaystyle \\left[\\begin{matrix}45 & -5 & -40 & 100\\\\-5 & 35 & -10 & 40\\\\-40 & -10 & 65 & -20\\end{matrix}\\right]$"
      ],
      "text/plain": [
       "Matrix([\n",
       "[ 45,  -5, -40, 100],\n",
       "[ -5,  35, -10,  40],\n",
       "[-40, -10,  65, -20]])"
      ]
     },
     "execution_count": 18,
     "metadata": {},
     "output_type": "execute_result"
    }
   ],
   "source": [
    "# Reemplazar los valores en la matriz\n",
    "replacements = {\n",
    "    R1: 20,\n",
    "    R2: 5,\n",
    "    R3: 10,\n",
    "    R4: 40,\n",
    "    R5: 15,\n",
    "    V1: 100,\n",
    "    V2: 40,\n",
    "    V3: 20\n",
    "}\n",
    "\n",
    "\n",
    "matrix_with_values = matrix.subs(replacements)\n",
    "matrix_with_values"
   ]
  },
  {
   "cell_type": "code",
   "execution_count": 20,
   "metadata": {},
   "outputs": [
    {
     "data": {
      "text/latex": [
       "$\\displaystyle \\left[\\begin{matrix}6\\\\\\frac{90}{29}\\\\\\frac{112}{29}\\end{matrix}\\right]$"
      ],
      "text/plain": [
       "Matrix([\n",
       "[     6],\n",
       "[ 90/29],\n",
       "[112/29]])"
      ]
     },
     "execution_count": 20,
     "metadata": {},
     "output_type": "execute_result"
    }
   ],
   "source": [
    "# Separar la matriz de coeficientes y el vector de términos independientes\n",
    "A = matrix_with_values[:, :-1]  # Matriz de coeficientes (3x3)\n",
    "b = matrix_with_values[:, -1]   # Vector de términos independientes (3x1)\n",
    "\n",
    "# Definir las incógnitas\n",
    "x1, x2, x3 = symbols('x1 x2 x3')\n",
    "\n",
    "# Resolver el sistema de ecuaciones Ax = b\n",
    "solution = A.LUsolve(b)\n",
    "solution"
   ]
  },
  {
   "cell_type": "code",
   "execution_count": 32,
   "metadata": {},
   "outputs": [],
   "source": [
    "i1,i2,i3=solution"
   ]
  },
  {
   "cell_type": "code",
   "execution_count": 36,
   "metadata": {},
   "outputs": [],
   "source": [
    "R1 = R1.subs(R1, 20)\n",
    "R2 = R2.subs(R2, 5)\n",
    "R3 = R3.subs(R3, 10)\n",
    "R4 = R4.subs(R4, 40)\n",
    "R5 = R5.subs(R5, 15)\n",
    "V1 = V1.subs(V1, 100)\n",
    "V2 = V2.subs(V2, 40)\n",
    "V3 = V3.subs(V3, 20)"
   ]
  },
  {
   "cell_type": "code",
   "execution_count": 40,
   "metadata": {},
   "outputs": [
    {
     "data": {
      "text/plain": [
       "(1800/29,\n",
       " 420/29,\n",
       " 220/29,\n",
       " 2480/29,\n",
       " 1680/29,\n",
       " 90/29,\n",
       " 84/29,\n",
       " 22/29,\n",
       " 6,\n",
       " 112/29,\n",
       " 62/29)"
      ]
     },
     "execution_count": 40,
     "metadata": {},
     "output_type": "execute_result"
    }
   ],
   "source": [
    "VR1 = i2*R1\n",
    "VR2 = R2*(i1-i2)\n",
    "VR3 = R3*(i3-i2)\n",
    "VR4 = R4*(i1-i3)\n",
    "VR5 = R5*i3\n",
    "IAC = VR1/R1\n",
    "IAB = VR2/R2\n",
    "IBC = VR3/R3\n",
    "IAD = i1\n",
    "IDC = i3\n",
    "IBD = VR4/R4\n",
    "VR1,VR2,VR3,VR4,VR5,IAC,IAB,IBC,IAD,IDC,IBD"
   ]
  }
 ],
 "metadata": {
  "kernelspec": {
   "display_name": "Python 3",
   "language": "python",
   "name": "python3"
  },
  "language_info": {
   "codemirror_mode": {
    "name": "ipython",
    "version": 3
   },
   "file_extension": ".py",
   "mimetype": "text/x-python",
   "name": "python",
   "nbconvert_exporter": "python",
   "pygments_lexer": "ipython3",
   "version": "3.12.4"
  }
 },
 "nbformat": 4,
 "nbformat_minor": 2
}
